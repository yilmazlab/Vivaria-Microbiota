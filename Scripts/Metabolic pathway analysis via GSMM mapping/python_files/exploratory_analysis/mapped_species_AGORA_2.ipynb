{
 "cells": [
  {
   "cell_type": "code",
   "execution_count": null,
   "metadata": {},
   "outputs": [],
   "source": [
    "import numpy as np\n",
    "import pandas as pd\n",
    "import matplotlib.pyplot as plt\n",
    "import pyreadr  # Load directly the rds file\n",
    "import seaborn as sns"
   ]
  },
  {
   "cell_type": "code",
   "execution_count": null,
   "metadata": {},
   "outputs": [],
   "source": [
    "save_files = False"
   ]
  },
  {
   "cell_type": "code",
   "execution_count": null,
   "metadata": {},
   "outputs": [],
   "source": [
    "# How much of the abundance is accounted for by the AGORA2 models?\n",
    "data = pyreadr.read_r(\"../../data/processed_files/otumat.rds\")\n",
    "otu_table = data[None]  # extract the pandas data frame for the only object available\n",
    "\n",
    "full_tax = pd.read_csv(f\"../../data/processed_files/taxonomy.csv\", sep=\",\")"
   ]
  },
  {
   "attachments": {},
   "cell_type": "markdown",
   "metadata": {},
   "source": [
    "### Identify the organisms which we can map to a model"
   ]
  },
  {
   "cell_type": "code",
   "execution_count": null,
   "metadata": {},
   "outputs": [],
   "source": [
    "def write_org_name(s: str):\n",
    "    \"\"\"\n",
    "    Parse the string containing the organism name\n",
    "    \"\"\"\n",
    "    classif = s.split(\"-\")\n",
    "    if len(classif[0]) == 0:\n",
    "        return \"unknown unknown unknown\"\n",
    "    elif len(classif[1]) == 0:\n",
    "        return classif[0] + \" unknown unknown\"\n",
    "    elif len(classif[2]) == 0:\n",
    "        return classif[0] + \" \" + classif[1] + \" unknown\"\n",
    "    else:\n",
    "        return classif[0] + \" \" + classif[1] + \" \" + classif[2]"
   ]
  },
  {
   "cell_type": "code",
   "execution_count": null,
   "metadata": {},
   "outputs": [],
   "source": [
    "full_tax"
   ]
  },
  {
   "attachments": {},
   "cell_type": "markdown",
   "metadata": {},
   "source": [
    "Single out the organism that we can identify at least at the Family level"
   ]
  },
  {
   "cell_type": "code",
   "execution_count": null,
   "metadata": {},
   "outputs": [],
   "source": [
    "full_tax = full_tax[[\"Family\", \"Genus\", \"Species\"]]\n",
    "full_tax.fillna(\"unknown\", inplace=True)\n",
    "full_tax.drop_duplicates()"
   ]
  },
  {
   "cell_type": "code",
   "execution_count": null,
   "metadata": {},
   "outputs": [],
   "source": [
    "# Generate list of the 457 identified OTUs\n",
    "if save_files:\n",
    "    full_tax.drop_duplicates().reset_index(drop=True).drop(0).to_csv(\n",
    "        \"../../data/tables/Supp_tabl_457_identified_OTUs.csv\"\n",
    "    )"
   ]
  },
  {
   "attachments": {},
   "cell_type": "markdown",
   "metadata": {},
   "source": [
    "There are many duplicates: let us match OTUs to their associated known taxonomy"
   ]
  },
  {
   "cell_type": "code",
   "execution_count": null,
   "metadata": {},
   "outputs": [],
   "source": [
    "# Detect which rows correspond to which organism\n",
    "organisms = pd.DataFrame()\n",
    "organisms[\"Organism\"] = (\n",
    "    full_tax[\"Family\"] + \" \" + full_tax[\"Genus\"] + \" \" + full_tax[\"Species\"]\n",
    ")\n",
    "organisms[\"Index\"] = organisms.index\n",
    "organisms_grouped = pd.DataFrame(\n",
    "    organisms.groupby(\"Organism\").apply(lambda x: list(x[\"Index\"])), columns=[\"Matches\"]\n",
    ")\n",
    "organisms_grouped"
   ]
  },
  {
   "attachments": {},
   "cell_type": "markdown",
   "metadata": {},
   "source": [
    "# Compute the percentage of abundances that can be mapped to a model\n",
    "\n",
    "We compute the reaction abundances by associating each OTU characterized at least at the Family level to models of the AGORA2 collection. We are not able to match all characterized OTUs but we can look at which fraction can be characterized.\n",
    "To do so, we retrieve the mapping obtained from the MATLAB script microbiome.m: an OTU is mapped only to models with the same taxonomy."
   ]
  },
  {
   "cell_type": "code",
   "execution_count": null,
   "metadata": {},
   "outputs": [],
   "source": [
    "# If the mapping is means that this taxonomic annotation was not mapped to any model\n",
    "matlab_mapping = pd.read_csv(\"../../data/processed_files/mapped_species_matlab.csv\")\n",
    "matlab_mapping"
   ]
  },
  {
   "cell_type": "code",
   "execution_count": null,
   "metadata": {},
   "outputs": [],
   "source": [
    "matlab_mapping[\"Organism\"] = matlab_mapping[\"mapped_species1\"].apply(write_org_name)\n",
    "matlab_mapping"
   ]
  },
  {
   "cell_type": "code",
   "execution_count": null,
   "metadata": {},
   "outputs": [],
   "source": [
    "matlab_mapped = matlab_mapping[matlab_mapping[\"mapped_species2\"] > 0]\n",
    "matlab_mapped"
   ]
  },
  {
   "cell_type": "code",
   "execution_count": null,
   "metadata": {},
   "outputs": [],
   "source": [
    "known_organisms_grouped = matlab_mapped.join(\n",
    "    organisms_grouped, on=\"Organism\", how=\"inner\"\n",
    ")"
   ]
  },
  {
   "cell_type": "code",
   "execution_count": null,
   "metadata": {},
   "outputs": [],
   "source": [
    "# Get the indices corresponding to the mapped species\n",
    "indices = known_organisms_grouped[\"Matches\"].sum()\n",
    "# Compute the relative abundances\n",
    "otu_rel = otu_table / otu_table.sum()\n",
    "# Filter the OTU abundances for the mapped abundances\n",
    "otu_mapped = otu_rel.iloc[indices, :]"
   ]
  },
  {
   "cell_type": "code",
   "execution_count": null,
   "metadata": {},
   "outputs": [],
   "source": [
    "sns.violinplot(otu_mapped.sum())\n",
    "plt.title(\"Overall mapping of species abundance to model\")"
   ]
  },
  {
   "cell_type": "code",
   "execution_count": null,
   "metadata": {},
   "outputs": [],
   "source": [
    "# Concatenate the OTU table with the metadata to obtain the mapping per model\n",
    "\n",
    "metadata = pd.read_csv(\"../../data/processed_files/metadata.csv\", index_col=0)\n",
    "metadata"
   ]
  },
  {
   "cell_type": "code",
   "execution_count": null,
   "metadata": {},
   "outputs": [],
   "source": [
    "# Concatenate the metadata to the OTU abundance using the #SampleID\n",
    "\n",
    "# Update the dataframe containing reactions and metadata\n",
    "# Join the metadata with the reactions\n",
    "otu_abund_meta = metadata.merge(\n",
    "    otu_mapped.transpose(), left_on=\"#SampleID\", right_index=True\n",
    ")\n",
    "otu_abund_meta[\"Mapped abundance\"] = otu_abund_meta.iloc[:, 48:].sum(axis=1)\n",
    "otu_abund_meta"
   ]
  },
  {
   "cell_type": "code",
   "execution_count": null,
   "metadata": {},
   "outputs": [],
   "source": [
    "sns.boxplot(data=otu_abund_meta, y=\"Model\", x=\"Mapped abundance\")\n",
    "plt.title(\"Mapped abundance for each microbiome model\")"
   ]
  },
  {
   "cell_type": "code",
   "execution_count": null,
   "metadata": {},
   "outputs": [],
   "source": [
    "# Make each datapoint appear\n",
    "sns.boxplot(data=otu_abund_meta, y=\"Model\", x=\"Mapped abundance\")\n",
    "\n",
    "\n",
    "sns.stripplot(data=otu_abund_meta, y=\"Model\", x=\"Mapped abundance\")\n",
    "\n",
    "\n",
    "plt.title(\"Mapped abundance for each microbiome model\")"
   ]
  },
  {
   "cell_type": "markdown",
   "metadata": {},
   "source": [
    "#### Table used to generate Extended Figure 6d"
   ]
  },
  {
   "cell_type": "code",
   "execution_count": null,
   "metadata": {},
   "outputs": [],
   "source": [
    "# Table used to generate Extended Figure 6d\n",
    "if save_files:\n",
    "    otu_abund_meta.to_csv(\n",
    "        \"../../data/tables/Supp_figure_mapped_microbial_abundance.csv\"\n",
    "    )"
   ]
  },
  {
   "cell_type": "markdown",
   "metadata": {},
   "source": [
    "# Having a look at the normalized OTU abundances\n"
   ]
  },
  {
   "cell_type": "code",
   "execution_count": null,
   "metadata": {},
   "outputs": [],
   "source": [
    "# Filter for humans, SPF, Wild\n",
    "otu_of_int = otu_abund_meta[otu_abund_meta[\"Model\"].isin([\"Wild\", \"SPF\", \"Human\"])]\n",
    "# Filter the metadata out\n",
    "otu_of_int_abund = otu_of_int[otu_of_int.columns[48:]]\n",
    "otu_of_int_abund.drop(\"Mapped abundance\", inplace=True, axis=1)\n",
    "otu_of_int_abund"
   ]
  },
  {
   "cell_type": "code",
   "execution_count": null,
   "metadata": {},
   "outputs": [],
   "source": [
    "# Fraction of nonzero entries\n",
    "(otu_of_int_abund > 0).sum().sum() / (\n",
    "    len(otu_of_int_abund.columns) * len(otu_of_int_abund.index)\n",
    ")"
   ]
  },
  {
   "cell_type": "code",
   "execution_count": null,
   "metadata": {},
   "outputs": [],
   "source": [
    "# Mean and median of all OTU abundances\n",
    "print(\"Mean\", np.mean(otu_of_int_abund.to_numpy().flatten()))\n",
    "print(\"Median\", np.median(otu_of_int_abund.to_numpy().flatten()))"
   ]
  },
  {
   "cell_type": "code",
   "execution_count": null,
   "metadata": {},
   "outputs": [],
   "source": [
    "# Mean and median of nonzero OTU abundances\n",
    "array = np.array(otu_of_int_abund)\n",
    "nonzero_of_int = array[np.nonzero(array)]\n",
    "print(\"Mean\", np.mean(nonzero_of_int))\n",
    "print(\"Median\", np.median(nonzero_of_int))"
   ]
  },
  {
   "cell_type": "code",
   "execution_count": null,
   "metadata": {},
   "outputs": [],
   "source": [
    "sns.boxenplot(np.log10(nonzero_of_int))"
   ]
  },
  {
   "cell_type": "code",
   "execution_count": null,
   "metadata": {},
   "outputs": [],
   "source": [
    "import pandas as pd\n",
    "\n",
    "test = pd.read_csv(\"../../data/manuscript/Supp_figure_mapped_microbial_abundance.csv\")\n",
    "test"
   ]
  },
  {
   "cell_type": "code",
   "execution_count": null,
   "metadata": {},
   "outputs": [],
   "source": [
    "import seaborn as sns\n",
    "import matplotlib.pyplot as plt"
   ]
  },
  {
   "cell_type": "code",
   "execution_count": null,
   "metadata": {},
   "outputs": [],
   "source": [
    "sns.boxplot(data=test, y=\"Model\", x=\"Mapped abundance\")\n",
    "plt.title(\"Mapped abundance for each microbiome model\")"
   ]
  },
  {
   "cell_type": "code",
   "execution_count": null,
   "metadata": {},
   "outputs": [],
   "source": [
    "test2 = \n",
    "test2"
   ]
  }
 ],
 "metadata": {
  "kernelspec": {
   "display_name": "basic_env_3.10",
   "language": "python",
   "name": "python3"
  },
  "language_info": {
   "codemirror_mode": {
    "name": "ipython",
    "version": 3
   },
   "file_extension": ".py",
   "mimetype": "text/x-python",
   "name": "python",
   "nbconvert_exporter": "python",
   "pygments_lexer": "ipython3",
   "version": "3.10.9"
  },
  "orig_nbformat": 4,
  "vscode": {
   "interpreter": {
    "hash": "a59aee97fb8a8856a446eb2a9f662ba2d04bd75a695ddf502b3dd0f2b9bb9a52"
   }
  }
 },
 "nbformat": 4,
 "nbformat_minor": 2
}
