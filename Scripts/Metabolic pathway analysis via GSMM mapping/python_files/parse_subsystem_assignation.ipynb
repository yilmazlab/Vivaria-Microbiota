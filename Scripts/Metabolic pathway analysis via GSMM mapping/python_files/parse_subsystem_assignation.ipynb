{
 "cells": [
  {
   "cell_type": "markdown",
   "metadata": {},
   "source": [
    "# Parse the output of the MATLAB subsystem annotation"
   ]
  },
  {
   "attachments": {},
   "cell_type": "markdown",
   "metadata": {},
   "source": [
    "Parse the KEGG subsystem mapping obtained from matlab_files/subsystem_annotation.\n",
    "The \"duplicated\" annotation refers to the end file: reactions that are present in several subsystems are present several times in the end file: one for each subsystem."
   ]
  },
  {
   "cell_type": "code",
   "execution_count": null,
   "metadata": {},
   "outputs": [],
   "source": [
    "save_file = True"
   ]
  },
  {
   "cell_type": "code",
   "execution_count": null,
   "metadata": {},
   "outputs": [],
   "source": [
    "import pandas as pd\n",
    "import matplotlib.pyplot as plt\n",
    "import seaborn as sns"
   ]
  },
  {
   "cell_type": "code",
   "execution_count": null,
   "metadata": {},
   "outputs": [],
   "source": [
    "mappings = pd.read_csv(\n",
    "    \"../data/subsystem_assignation/subsystem_mapping.csv\", index_col=0\n",
    ")\n",
    "\n",
    "mappings"
   ]
  },
  {
   "attachments": {},
   "cell_type": "markdown",
   "metadata": {},
   "source": [
    "Start by removing biomass and exchange reactions"
   ]
  },
  {
   "cell_type": "code",
   "execution_count": null,
   "metadata": {},
   "outputs": [],
   "source": [
    "biomass_reac = [reac for reac in mappings.index if \"biomass\" in reac]\n",
    "exch_reac = [reac for reac in mappings.index if \"EX_\" in reac]\n",
    "mappings = mappings.drop(biomass_reac + exch_reac)\n",
    "mappings"
   ]
  },
  {
   "attachments": {},
   "cell_type": "markdown",
   "metadata": {},
   "source": [
    "Get rid of the NA values by replacing them with an \"Unknown\" subsystem.\n",
    "Then filter for reactions with known KEGG subsystem assignation as this is the standard we will use."
   ]
  },
  {
   "cell_type": "code",
   "execution_count": null,
   "metadata": {},
   "outputs": [],
   "source": [
    "mappings_filled = mappings.fillna(\"Unknown\")\n",
    "mappings_kegg = mappings_filled[mappings_filled[\"subsKEGG\"] != \"Unknown\"]\n",
    "mappings_kegg"
   ]
  },
  {
   "attachments": {},
   "cell_type": "markdown",
   "metadata": {},
   "source": [
    "Check how many reactions have multiple assignations"
   ]
  },
  {
   "cell_type": "code",
   "execution_count": null,
   "metadata": {},
   "outputs": [],
   "source": [
    "kegg_subsys = mappings_kegg[\"subsKEGG\"]\n",
    "has_multiple_map = pd.Series([0] * len(mappings_kegg))\n",
    "has_multiple_map.index = kegg_subsys.index\n",
    "\n",
    "\n",
    "for reac in kegg_subsys.index:\n",
    "    subsys = kegg_subsys[reac]\n",
    "    if \"|\" in subsys:\n",
    "        has_multiple_map[reac] = subsys.count(\"|\")\n",
    "\n",
    "has_multiple_map.value_counts()"
   ]
  },
  {
   "attachments": {},
   "cell_type": "markdown",
   "metadata": {},
   "source": [
    "# Demultiplying reactions\n",
    "\n",
    "Since those pathways are all valid KEGG annotations, we will consider that each reaction takes part in all those pathways.\n",
    "There are 3 levels of subsystem in KEGG: we will use the third one.\n",
    "There is however one annotation at level 1 which is \"Non included in pathway or brite\" and has an annotation at level 3 that is not \"Unknown\". However,all reactions with this annotation except 1 (NTP12) have other subsystems. We will thus remove the rows corresponding to this \"Non included\" subsystem."
   ]
  },
  {
   "cell_type": "code",
   "execution_count": null,
   "metadata": {},
   "outputs": [],
   "source": [
    "series_list = []\n",
    "for reaction in mappings_kegg.index:\n",
    "    subsys_str = mappings_kegg.loc[reaction, \"subsKEGG\"]\n",
    "    subsys_mult = subsys_str.split(\"|\")\n",
    "    for s in subsys_mult:\n",
    "        levels = s.split(\";\")\n",
    "        series = pd.Series(\n",
    "            [reaction, levels[0], levels[1], levels[2], len(subsys_mult)]\n",
    "        )\n",
    "        series.index = [\"rxn\", \"level1\", \"level2\", \"level3\", \"num_diff_subsys\"]\n",
    "        series_list.append(series)\n",
    "subsys_table = pd.concat(series_list, axis=1).transpose()\n",
    "subsys_table"
   ]
  },
  {
   "cell_type": "code",
   "execution_count": null,
   "metadata": {},
   "outputs": [],
   "source": [
    "# All the reactions that have a \"non included in pathway or brite\" field except 1 have other subsystems : remove the \"non included subsystem\"\n",
    "not_included = subsys_table[\n",
    "    subsys_table[\"level1\"] == \"Not Included in Pathway or Brite\"\n",
    "]\n",
    "not_included[not_included[\"num_diff_subsys\"] == 1]"
   ]
  },
  {
   "cell_type": "code",
   "execution_count": null,
   "metadata": {},
   "outputs": [],
   "source": [
    "subsys_table[subsys_table[\"rxn\"] == \"NTP10\"]"
   ]
  },
  {
   "cell_type": "code",
   "execution_count": null,
   "metadata": {},
   "outputs": [],
   "source": [
    "to_remove = subsys_table[subsys_table[\"level1\"] == \"Not Included in Pathway or Brite\"]\n",
    "subsys_table = subsys_table.drop(list(to_remove.index))\n",
    "subsys_table"
   ]
  },
  {
   "cell_type": "code",
   "execution_count": null,
   "metadata": {},
   "outputs": [],
   "source": [
    "if save_file:\n",
    "    subsys_table.to_csv(\"../data/processed_files/subsystem_duplicated.csv\")"
   ]
  }
 ],
 "metadata": {
  "kernelspec": {
   "display_name": "base",
   "language": "python",
   "name": "python3"
  },
  "language_info": {
   "codemirror_mode": {
    "name": "ipython",
    "version": 3
   },
   "file_extension": ".py",
   "mimetype": "text/x-python",
   "name": "python",
   "nbconvert_exporter": "python",
   "pygments_lexer": "ipython3",
   "version": "3.10.9"
  },
  "orig_nbformat": 4
 },
 "nbformat": 4,
 "nbformat_minor": 2
}
