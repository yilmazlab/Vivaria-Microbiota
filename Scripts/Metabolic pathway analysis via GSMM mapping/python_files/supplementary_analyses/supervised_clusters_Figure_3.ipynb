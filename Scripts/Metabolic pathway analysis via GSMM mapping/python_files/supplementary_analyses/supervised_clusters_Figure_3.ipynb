{
 "cells": [
  {
   "cell_type": "code",
   "execution_count": null,
   "metadata": {},
   "outputs": [],
   "source": [
    "save_file = True"
   ]
  },
  {
   "cell_type": "markdown",
   "metadata": {},
   "source": [
    "# Create the dataset"
   ]
  },
  {
   "cell_type": "code",
   "execution_count": null,
   "metadata": {},
   "outputs": [],
   "source": [
    "import pandas as pd\n",
    "import numpy as np"
   ]
  },
  {
   "cell_type": "code",
   "execution_count": null,
   "metadata": {},
   "outputs": [],
   "source": [
    "clusters = pd.read_excel(\n",
    "    \"../../../data/original_files/class_analysis_16_10/Clusters.xlsx\"\n",
    ")"
   ]
  },
  {
   "cell_type": "code",
   "execution_count": null,
   "metadata": {},
   "outputs": [],
   "source": [
    "clusters = clusters.melt()\n",
    "clusters"
   ]
  },
  {
   "cell_type": "code",
   "execution_count": null,
   "metadata": {},
   "outputs": [],
   "source": [
    "clusters.columns = [\"Cluster\", \"SampleID\"]\n",
    "clusters = clusters.dropna()"
   ]
  },
  {
   "cell_type": "code",
   "execution_count": null,
   "metadata": {},
   "outputs": [],
   "source": [
    "clusters"
   ]
  },
  {
   "cell_type": "code",
   "execution_count": null,
   "metadata": {},
   "outputs": [],
   "source": [
    "abundances = pd.read_excel(\n",
    "    \"../../../data/original_files/class_analysis_16_10/Subset_pathabundance.xlsx\",\n",
    "    index_col=0,\n",
    ").transpose()"
   ]
  },
  {
   "cell_type": "code",
   "execution_count": null,
   "metadata": {},
   "outputs": [],
   "source": [
    "abundances.index"
   ]
  },
  {
   "cell_type": "code",
   "execution_count": null,
   "metadata": {},
   "outputs": [],
   "source": [
    "data = abundances.merge(clusters, left_index=True, right_on=\"SampleID\", how=\"inner\")\n",
    "data"
   ]
  },
  {
   "cell_type": "code",
   "execution_count": null,
   "metadata": {},
   "outputs": [],
   "source": [
    "# Add the last sample W1351\n",
    "W1351 = pd.DataFrame(abundances.loc[\"W1351bowtie2aligned\"]).transpose()\n",
    "W1351[\"Cluster\"] = \"Cluster 1\"\n",
    "W1351[\"SampleID\"] = \"W1351\"\n",
    "data = pd.concat([data, W1351])\n",
    "data.reset_index(inplace=True)\n",
    "data"
   ]
  },
  {
   "cell_type": "code",
   "execution_count": null,
   "metadata": {},
   "outputs": [],
   "source": [
    "if save_file:\n",
    "    data.to_csv(\"../../../data/processed_files/cluster_data.csv\")"
   ]
  },
  {
   "cell_type": "markdown",
   "metadata": {},
   "source": [
    "# Here run fit_model_scripts/fit_supervised_clusters_Figure_3.R"
   ]
  },
  {
   "cell_type": "markdown",
   "metadata": {},
   "source": [
    "# Look at the results"
   ]
  },
  {
   "cell_type": "code",
   "execution_count": null,
   "metadata": {},
   "outputs": [],
   "source": [
    "import matplotlib.pyplot as plt\n",
    "from matplotlib import colormaps\n",
    "import matplotlib.colors as colors\n",
    "import numpy as np\n",
    "import seaborn as sns\n",
    "import pandas as pd"
   ]
  },
  {
   "cell_type": "code",
   "execution_count": null,
   "metadata": {},
   "outputs": [],
   "source": [
    "full_res = pd.read_csv(\n",
    "    \"../../../data/results_files/heatmap/cluster_significance/2023-10-21/_beg_3_end_85_cluster_results.csv\",\n",
    "    index_col=0,\n",
    ")\n",
    "full_res"
   ]
  },
  {
   "cell_type": "code",
   "execution_count": null,
   "metadata": {},
   "outputs": [],
   "source": [
    "# Plot the R2\n",
    "plt.hist(full_res[\"r2\"])\n",
    "plt.title(\"R2\")\n",
    "plt.show()"
   ]
  },
  {
   "cell_type": "code",
   "execution_count": null,
   "metadata": {},
   "outputs": [],
   "source": [
    "# Correct p-values and test significance\n",
    "# Get the vector of pvalues\n",
    "\n",
    "pval_col = [\n",
    "    column\n",
    "    for column in list(full_res.columns)\n",
    "    if (\"pval\" in column and \"Model\" not in column and \"Intercept\" not in column)\n",
    "]\n",
    "pvalues_lists = [list(full_res[col]) for col in pval_col]\n",
    "pvalues = [item for sublist in pvalues_lists for item in sublist]\n",
    "from statsmodels.stats.multitest import fdrcorrection, multipletests\n",
    "\n",
    "pvalues_BH = multipletests(pvalues, 0.05, method=\"holm\")[1]\n",
    "\n",
    "plt.hist(np.log10(pvalues_BH))\n",
    "plt.title(\"Holm corrected log10 p-values for the emmeans estimates\")"
   ]
  },
  {
   "cell_type": "code",
   "execution_count": null,
   "metadata": {},
   "outputs": [],
   "source": [
    "i = 0\n",
    "BH_col = []\n",
    "for col in full_res.columns:\n",
    "    if (\n",
    "        \"pval\" in col and \"Model\" not in col and \"Intercept\" not in col\n",
    "    ):  # Keep only the emmeans, loose the Model estimates directly output by the MM\n",
    "        new_name = col + \" BH\"\n",
    "        beg = i * len(full_res)\n",
    "        end = (i + 1) * len(full_res)\n",
    "        l = pvalues_BH[beg:end]\n",
    "        full_res[new_name] = l\n",
    "        i += 1\n",
    "\n",
    "full_res"
   ]
  },
  {
   "cell_type": "code",
   "execution_count": null,
   "metadata": {},
   "outputs": [],
   "source": [
    "pvals = full_res[[c for c in full_res.columns if \"pval BH\" in c]]\n",
    "pvals"
   ]
  },
  {
   "cell_type": "code",
   "execution_count": null,
   "metadata": {},
   "outputs": [],
   "source": [
    "# Plot the estimates filtering out the pvalues\n",
    "mask = pvals > 0.05\n",
    "# Use light grey when not significant\n",
    "\n",
    "\n",
    "estimates = full_res[[c for c in full_res if \"est\" in c]]\n",
    "xlabels = [\n",
    "    \"Cluster 1 - Cluster 2\",\n",
    "    \"Cluster 1 - Cluster 3\",\n",
    "    \"Cluster 1 - Cluster 4\",\n",
    "    \"Cluster 1 - Cluster 5\",\n",
    "    \"Cluster 2 - Cluster 3\",\n",
    "    \"Cluster 2 - Cluster 4\",\n",
    "    \"Cluster 2 - Cluster 5\",\n",
    "    \"Cluster 3 - Cluster 4\",\n",
    "    \"Cluster 3 - Cluster 5\",\n",
    "    \"Cluster 4 - Cluster 5\",\n",
    "]\n",
    "\n",
    "# Change the order of the pathways to match figure 3\n",
    "pathway_order = [\n",
    "    \"PA401\",\n",
    "    \"PA57\",\n",
    "    \"PA10\",\n",
    "    \"PA11\",\n",
    "    \"PA592\",\n",
    "    \"PA34\",\n",
    "    \"PA469\",\n",
    "    \"PA205\",\n",
    "    \"PA468\",\n",
    "    \"PA325\",\n",
    "    \"PA245\",\n",
    "    \"PA267\",\n",
    "    \"PA130\",\n",
    "    \"PA244\",\n",
    "    \"PA394\",\n",
    "    \"PA119\",\n",
    "    \"PA291\",\n",
    "    \"PA236\",\n",
    "    \"PA457\",\n",
    "    \"PA248\",\n",
    "    \"PA396\",\n",
    "    \"PA249\",\n",
    "    \"PA518\",\n",
    "    \"PA208\",\n",
    "    \"PA570\",\n",
    "    \"PA1\",\n",
    "    \"PA488\",\n",
    "    \"PA441\",\n",
    "    \"PA577\",\n",
    "    \"PA141\",\n",
    "    \"PA584\",\n",
    "    \"PA5\",\n",
    "    \"PA13\",\n",
    "    \"PA574\",\n",
    "    \"PA72\",\n",
    "    \"PA333\",\n",
    "    \"PA69\",\n",
    "    \"PA388\",\n",
    "    \"PA393\",\n",
    "    \"PA395\",\n",
    "    \"PA233\",\n",
    "    \"PA373\",\n",
    "    \"PA509\",\n",
    "    \"PA278\",\n",
    "    \"PA110\",\n",
    "    \"PA161\",\n",
    "    \"PA266\",\n",
    "    \"PA454\",\n",
    "    \"PA92\",\n",
    "    \"PA588\",\n",
    "    \"PA397\",\n",
    "    \"PA246\",\n",
    "    \"PA247\",\n",
    "    \"PA332\",\n",
    "    \"PA116\",\n",
    "    \"PA117\",\n",
    "    \"PA24\",\n",
    "    \"PA23\",\n",
    "    \"PA479\",\n",
    "    \"PA566\",\n",
    "    \"PA162\",\n",
    "    \"PA16\",\n",
    "    \"PA74\",\n",
    "    \"PA253\",\n",
    "    \"PA6\",\n",
    "    \"PA12\",\n",
    "    \"PA90\",\n",
    "    \"PA255\",\n",
    "    \"PA140\",\n",
    "    \"PA160\",\n",
    "    \"PA487\",\n",
    "    \"PA289\",\n",
    "    \"PA290\",\n",
    "    \"PA303\",\n",
    "    \"PA526\",\n",
    "    \"PA17\",\n",
    "    \"PA55\",\n",
    "    \"PA385\",\n",
    "    \"PA404\",\n",
    "    \"PA70\",\n",
    "    \"PA27\",\n",
    "    \"PA201\",\n",
    "    \"PA529\",\n",
    "]\n",
    "\n",
    "plt.figure(figsize=(5, 20))\n",
    "plt.title(\"Estimates\")\n",
    "plt.xlabel(\"Contrast\")\n",
    "plt.ylabel(\"Pathway\")\n",
    "estimates.columns = xlabels\n",
    "estimates = estimates.reindex(pathway_order)\n",
    "mask.columns = xlabels\n",
    "mask = mask.reindex(pathway_order)\n",
    "hm = sns.heatmap(estimates, mask=mask, cmap=\"seismic\", center=0)\n",
    "hm.set_facecolor(\"lightgrey\")"
   ]
  },
  {
   "cell_type": "code",
   "execution_count": null,
   "metadata": {},
   "outputs": [],
   "source": [
    "results = full_res[[c for c in full_res.columns if \"est\" in c or \"pval BH\" in c]]\n",
    "results"
   ]
  },
  {
   "cell_type": "code",
   "execution_count": null,
   "metadata": {},
   "outputs": [],
   "source": [
    "col = results.columns\n",
    "new_col = []\n",
    "for c in col:\n",
    "    print(c)\n",
    "    split = c.split()\n",
    "    cluster_names = split[0]\n",
    "    type = split[1]\n",
    "    cid = cluster_names.split(\"-\")\n",
    "    if type == \"est\":\n",
    "        type = \"estimate\"\n",
    "    else:\n",
    "        type = \"corrected pvalue\"\n",
    "    new_col.append(f\"Cluster {cid[0]} - Cluster {cid[1]} {type}\")\n",
    "results.columns = new_col\n",
    "results"
   ]
  },
  {
   "cell_type": "code",
   "execution_count": null,
   "metadata": {},
   "outputs": [],
   "source": [
    "if save_file:\n",
    "    results.to_excel(\n",
    "        \"../../../data/results_files/heatmap/cluster_significance/results.xlsx\"\n",
    "    )"
   ]
  }
 ],
 "metadata": {
  "kernelspec": {
   "display_name": "MacPherson",
   "language": "python",
   "name": "python3"
  },
  "language_info": {
   "codemirror_mode": {
    "name": "ipython",
    "version": 3
   },
   "file_extension": ".py",
   "mimetype": "text/x-python",
   "name": "python",
   "nbconvert_exporter": "python",
   "pygments_lexer": "ipython3",
   "version": "3.10.9"
  }
 },
 "nbformat": 4,
 "nbformat_minor": 2
}
