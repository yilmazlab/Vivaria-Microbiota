{
 "cells": [
  {
   "attachments": {},
   "cell_type": "markdown",
   "metadata": {},
   "source": [
    "Reassemble all results and emmeans files obtaiend in parallel in two main files."
   ]
  },
  {
   "cell_type": "code",
   "execution_count": null,
   "metadata": {},
   "outputs": [],
   "source": [
    "import pandas as pd\n",
    "import os\n",
    "import numpy as np"
   ]
  },
  {
   "cell_type": "code",
   "execution_count": null,
   "metadata": {},
   "outputs": [],
   "source": [
    "cluster_res_dir = \"../../data/results_files/2023-06-30/2023-06-30/\"\n",
    "results_dir = \"../../data/results_files/\"\n",
    "pd.set_option(\"display.max_rows\", 5)"
   ]
  },
  {
   "cell_type": "code",
   "execution_count": null,
   "metadata": {},
   "outputs": [],
   "source": [
    "res_file = []\n",
    "em_file = []\n",
    "\n",
    "# Classify the files\n",
    "for filename in os.listdir(cluster_res_dir):\n",
    "    if filename not in [\"emmeans.csv\", \"results.csv\"]:\n",
    "        if \"emmeans\" in filename:\n",
    "            em_file.append(filename)\n",
    "        if \"results\" in filename:\n",
    "            res_file.append(filename)"
   ]
  },
  {
   "cell_type": "code",
   "execution_count": null,
   "metadata": {},
   "outputs": [],
   "source": [
    "# Parse the files\n",
    "# The current naming for the files as output by the cluster script is _beg_i1_end_i2_type.csv\n",
    "# Where i1 and i2 are the indices of the first and the last reactions that the script has to process\n",
    "\n",
    "\n",
    "res_list = []\n",
    "\n",
    "\n",
    "for file in res_file:\n",
    "    empty, beg, r1, end, r2, restype = file.split(\"_\")\n",
    "\n",
    "    temp_df = pd.read_csv(cluster_res_dir + file, index_col=0)\n",
    "\n",
    "    res_list.append(temp_df)\n",
    "\n",
    "\n",
    "res_df = pd.concat(res_list, axis=0)\n",
    "\n",
    "\n",
    "res_df = res_df.sort_index()\n",
    "res_df"
   ]
  },
  {
   "cell_type": "code",
   "execution_count": null,
   "metadata": {},
   "outputs": [],
   "source": [
    "# Parse the files\n",
    "em_list = []\n",
    "for file in em_file:\n",
    "    empty, beg, r1, end, r2, restype = file.split(\"_\")\n",
    "    temp_df = pd.read_csv(cluster_res_dir + file, index_col=0)\n",
    "    em_list.append(temp_df)\n",
    "em_df = pd.concat(em_list, axis=0)\n",
    "em_df = em_df.sort_index()\n",
    "em_df"
   ]
  },
  {
   "cell_type": "code",
   "execution_count": null,
   "metadata": {},
   "outputs": [],
   "source": [
    "# Save the files\n",
    "em_df.to_csv(results_dir + \"emmeans.csv\")\n",
    "res_df.to_csv(results_dir + \"results.csv\")"
   ]
  }
 ],
 "metadata": {
  "kernelspec": {
   "display_name": "MacPherson",
   "language": "python",
   "name": "python3"
  },
  "language_info": {
   "codemirror_mode": {
    "name": "ipython",
    "version": 3
   },
   "file_extension": ".py",
   "mimetype": "text/x-python",
   "name": "python",
   "nbconvert_exporter": "python",
   "pygments_lexer": "ipython3",
   "version": "3.10.9"
  },
  "orig_nbformat": 4
 },
 "nbformat": 4,
 "nbformat_minor": 2
}
