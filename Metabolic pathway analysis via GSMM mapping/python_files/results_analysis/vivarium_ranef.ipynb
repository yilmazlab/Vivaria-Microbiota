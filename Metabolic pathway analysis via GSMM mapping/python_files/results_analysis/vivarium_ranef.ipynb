{
 "cells": [
  {
   "cell_type": "markdown",
   "metadata": {},
   "source": [
    "# Investigate for which subsystems the random effects on the 'Origin' label was signifiant."
   ]
  },
  {
   "cell_type": "code",
   "execution_count": null,
   "metadata": {},
   "outputs": [],
   "source": [
    "import pandas as pd\n",
    "import numpy as np\n",
    "import matplotlib.pyplot as plt\n",
    "import seaborn as sns\n",
    "from scipy.stats import fisher_exact"
   ]
  },
  {
   "cell_type": "code",
   "execution_count": null,
   "metadata": {},
   "outputs": [],
   "source": [
    "results_dir = \"../../data/results_files/\"\n",
    "pd.set_option(\"display.max_rows\", 50)"
   ]
  },
  {
   "cell_type": "code",
   "execution_count": null,
   "metadata": {},
   "outputs": [],
   "source": [
    "res = pd.read_csv(results_dir + \"results.csv\", index_col=0)\n",
    "emmeans = pd.read_csv(results_dir + \"emmeans.csv\", index_col=0)"
   ]
  },
  {
   "cell_type": "markdown",
   "metadata": {},
   "source": [
    "## Match to subsystems"
   ]
  },
  {
   "cell_type": "code",
   "execution_count": null,
   "metadata": {},
   "outputs": [],
   "source": [
    "subsystems = pd.read_csv(\n",
    "    \"../../data/processed_files/subsystem_duplicated.csv\",\n",
    "    index_col=0,\n",
    ")\n",
    "rxn = pd.read_csv(\"../../data/processed_files/rxn_names.csv\", index_col=0)\n",
    "rxn.columns = [\"name\"]"
   ]
  },
  {
   "cell_type": "code",
   "execution_count": null,
   "metadata": {},
   "outputs": [],
   "source": [
    "res[\"Reaction\"] = rxn[\"name\"]\n",
    "subsystem_col = []\n",
    "\n",
    "for r in res.index:\n",
    "    subsys = subsystems[subsystems[\"rxn\"] == r][\"level3\"]\n",
    "    subsys_list = list(subsys)\n",
    "    if len(subsys_list) == 0:\n",
    "        subsys_list = [\"Unknown\"]\n",
    "    subsystem_col.append(subsys_list)\n",
    "subsystem_col = pd.Series(subsystem_col, index=res.index)\n",
    "res[\"Subsystem\"] = subsystem_col"
   ]
  },
  {
   "cell_type": "markdown",
   "metadata": {},
   "source": [
    "## Select reactions with significant random effects at the origin"
   ]
  },
  {
   "cell_type": "code",
   "execution_count": null,
   "metadata": {},
   "outputs": [],
   "source": [
    "origin_ranef = res[\n",
    "    [\"resid std\", \"Origin std\", \"Intercept est\", \"Subsystem\", \"israndom\"]\n",
    "]\n",
    "origin_ranef"
   ]
  },
  {
   "cell_type": "code",
   "execution_count": null,
   "metadata": {},
   "outputs": [],
   "source": [
    "# Proportion of models with origin ranef\n",
    "len(origin_ranef[origin_ranef[\"israndom\"].isin([\"OC\", \"O\"])]) / len(origin_ranef)"
   ]
  },
  {
   "cell_type": "code",
   "execution_count": null,
   "metadata": {},
   "outputs": [],
   "source": [
    "# Proportion of models with chip ranef\n",
    "len(origin_ranef[origin_ranef[\"israndom\"].isin([\"OC\", \"C\"])]) / len(origin_ranef)"
   ]
  },
  {
   "cell_type": "code",
   "execution_count": null,
   "metadata": {},
   "outputs": [],
   "source": [
    "# Proportion of models with no ranef\n",
    "len(origin_ranef[origin_ranef[\"israndom\"].isin([\"fixed\"])]) / len(origin_ranef)"
   ]
  },
  {
   "cell_type": "code",
   "execution_count": null,
   "metadata": {},
   "outputs": [],
   "source": [
    "sns.boxplot(\n",
    "    data=origin_ranef[origin_ranef[\"israndom\"].isin([\"OC\", \"O\"])], x=\"Origin std\"\n",
    ")"
   ]
  },
  {
   "cell_type": "markdown",
   "metadata": {},
   "source": [
    "Then duplicate the rows for reactions with multiple subsystems"
   ]
  },
  {
   "cell_type": "code",
   "execution_count": null,
   "metadata": {},
   "outputs": [],
   "source": [
    "origin_matrix = []\n",
    "for reaction_name in origin_ranef.index:\n",
    "    for subsys in origin_ranef.loc[reaction_name, \"Subsystem\"]:\n",
    "        origin_matrix.append(\n",
    "            [\n",
    "                reaction_name,\n",
    "                origin_ranef.loc[reaction_name, \"israndom\"],\n",
    "                origin_ranef.loc[reaction_name, \"Origin std\"],\n",
    "                origin_ranef.loc[reaction_name, \"resid std\"],\n",
    "                origin_ranef.loc[reaction_name, \"Intercept est\"],\n",
    "                subsys,\n",
    "            ]\n",
    "        )\n",
    "\n",
    "origin_df = pd.DataFrame(\n",
    "    origin_matrix,\n",
    "    columns=[\n",
    "        \"Reaction\",\n",
    "        \"israndom\",\n",
    "        \"Origin std\",\n",
    "        \"resid std\",\n",
    "        \"Intercept est\",\n",
    "        \"Subsystem\",\n",
    "    ],\n",
    ")\n",
    "origin_df"
   ]
  },
  {
   "cell_type": "markdown",
   "metadata": {},
   "source": [
    "Then run Fisher's exact test"
   ]
  },
  {
   "cell_type": "code",
   "execution_count": null,
   "metadata": {},
   "outputs": [],
   "source": [
    "all_subsys = origin_df[\"Subsystem\"].unique()"
   ]
  },
  {
   "cell_type": "code",
   "execution_count": null,
   "metadata": {},
   "outputs": [],
   "source": [
    "subsystems_enriched = []\n",
    "ranef_sig = origin_df[origin_df[\"israndom\"].isin([\"O\", \"OC\"])]\n",
    "ranef_nonsig = origin_df[~origin_df[\"israndom\"].isin([\"O\", \"OC\"])]\n",
    "\n",
    "for subsys in all_subsys:\n",
    "    if subsys != \"Unknown\":\n",
    "        contingency_mat = np.zeros((2, 2))\n",
    "        contingency_mat[0, 0] = len(ranef_sig[ranef_sig[\"Subsystem\"] == subsys])\n",
    "        contingency_mat[0, 1] = len(ranef_sig) - contingency_mat[0, 0]\n",
    "        contingency_mat[1, 0] = len(ranef_nonsig[ranef_nonsig[\"Subsystem\"] == subsys])\n",
    "        contingency_mat[1, 1] = len(ranef_nonsig) - contingency_mat[1, 0]\n",
    "        res = fisher_exact(contingency_mat, alternative=\"greater\")\n",
    "    pvalue = res.pvalue * (len(all_subsys) - 1)  # Bonferroni correction\n",
    "    if pvalue <= 0.05:\n",
    "        print(\n",
    "            f\"Corrected pvalues with Bonferoni correction, initial pvalue {res.pvalue}, corrected pvalue {pvalue}\"\n",
    "        )\n",
    "        subsystems_enriched.append(subsys)\n",
    "\n",
    "subsystems_enriched"
   ]
  },
  {
   "cell_type": "code",
   "execution_count": null,
   "metadata": {},
   "outputs": [],
   "source": [
    "sns.boxplot(\n",
    "    data=origin_df[origin_df[\"Subsystem\"].isin(subsystems_enriched)],\n",
    "    y=\"Subsystem\",\n",
    "    x=\"Origin std\",\n",
    ")\n",
    "sns.swarmplot(\n",
    "    data=origin_df[origin_df[\"Subsystem\"].isin(subsystems_enriched)],\n",
    "    y=\"Subsystem\",\n",
    "    x=\"Origin std\",\n",
    "    color=\"k\",\n",
    "    s=5,\n",
    ")\n",
    "\n",
    "effect_thresh = 0.01\n",
    "ymin = -1\n",
    "ymax = 1\n",
    "\n",
    "plt.vlines([0], ymin=ymin, ymax=ymax, colors=[\"g\"], linestyles=[\"dashed\"], label=\"0\")\n",
    "plt.vlines(\n",
    "    [-effect_thresh, effect_thresh],\n",
    "    ymin=ymin,\n",
    "    ymax=ymax,\n",
    "    colors=[\"orange\"],\n",
    "    linestyles=[\"dashed\"],\n",
    "    label=f\"+/- {effect_thresh}\",\n",
    ")"
   ]
  }
 ],
 "metadata": {
  "kernelspec": {
   "display_name": "MacPherson",
   "language": "python",
   "name": "python3"
  },
  "language_info": {
   "codemirror_mode": {
    "name": "ipython",
    "version": 3
   },
   "file_extension": ".py",
   "mimetype": "text/x-python",
   "name": "python",
   "nbconvert_exporter": "python",
   "pygments_lexer": "ipython3",
   "version": "3.10.9"
  },
  "orig_nbformat": 4
 },
 "nbformat": 4,
 "nbformat_minor": 2
}
