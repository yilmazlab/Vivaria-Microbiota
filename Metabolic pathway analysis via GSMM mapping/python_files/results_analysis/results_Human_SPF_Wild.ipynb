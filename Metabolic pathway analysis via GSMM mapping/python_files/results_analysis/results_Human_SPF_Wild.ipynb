{
 "cells": [
  {
   "cell_type": "code",
   "execution_count": null,
   "metadata": {},
   "outputs": [],
   "source": [
    "import pandas as pd\n",
    "import os\n",
    "import numpy as np\n",
    "import matplotlib.pyplot as plt\n",
    "import seaborn as sns\n",
    "from scipy.stats import fisher_exact"
   ]
  },
  {
   "cell_type": "code",
   "execution_count": null,
   "metadata": {},
   "outputs": [],
   "source": [
    "save_files = False"
   ]
  },
  {
   "cell_type": "code",
   "execution_count": null,
   "metadata": {},
   "outputs": [],
   "source": [
    "results_dir = \"../../data/results_files/\"\n",
    "pd.set_option(\"display.max_rows\", 5)"
   ]
  },
  {
   "cell_type": "code",
   "execution_count": null,
   "metadata": {},
   "outputs": [],
   "source": [
    "res = pd.read_csv(results_dir + \"results.csv\", index_col=0)\n",
    "emmeans = pd.read_csv(results_dir + \"emmeans.csv\", index_col=0)"
   ]
  },
  {
   "attachments": {},
   "cell_type": "markdown",
   "metadata": {},
   "source": [
    "# See which fit were singular and eliminate them\n",
    "\n",
    "Fits for which some of the random effects were not considered"
   ]
  },
  {
   "cell_type": "code",
   "execution_count": null,
   "metadata": {},
   "outputs": [],
   "source": [
    "len(res[res[\"israndom\"] == \"fixed\"])  # Number of fixed effect models"
   ]
  },
  {
   "cell_type": "code",
   "execution_count": null,
   "metadata": {},
   "outputs": [],
   "source": [
    "len(res[res[\"israndom\"] == \"O\"])"
   ]
  },
  {
   "cell_type": "code",
   "execution_count": null,
   "metadata": {},
   "outputs": [],
   "source": [
    "len(res[res[\"israndom\"] == \"C\"])"
   ]
  },
  {
   "cell_type": "code",
   "execution_count": null,
   "metadata": {},
   "outputs": [],
   "source": [
    "len(res[res[\"israndom\"] == \"OC\"])"
   ]
  },
  {
   "attachments": {},
   "cell_type": "markdown",
   "metadata": {},
   "source": [
    "There are 180 reactions over 7605 for which no random effects were significant, 126 for which the Chip effect was not significant, and 2002 for which the origin random effect was not significant."
   ]
  },
  {
   "attachments": {},
   "cell_type": "markdown",
   "metadata": {},
   "source": [
    "# Convergence and quality of the fit"
   ]
  },
  {
   "cell_type": "code",
   "execution_count": null,
   "metadata": {},
   "outputs": [],
   "source": [
    "errors = res[\n",
    "    res[\"fit msg\"]\n",
    "    != \"E fixed-effect model matrix is rank deficient so dropping 4 columns / coefficients\"  # This is an expected message\n",
    "]\n",
    "np.unique(errors[\"fit msg\"])"
   ]
  },
  {
   "attachments": {},
   "cell_type": "markdown",
   "metadata": {},
   "source": [
    "No error to report"
   ]
  },
  {
   "cell_type": "code",
   "execution_count": null,
   "metadata": {},
   "outputs": [],
   "source": [
    "plt.hist(res[\"r2c\"], alpha=0.5, label=\"Conditional R2\")\n",
    "plt.hist(res[\"r2m\"], alpha=0.5, label=\"Marginal R2\")\n",
    "plt.title(\"R2\")\n",
    "plt.legend()"
   ]
  },
  {
   "attachments": {},
   "cell_type": "markdown",
   "metadata": {},
   "source": [
    "# Integrate the emmeans estimates and pvalue corrections"
   ]
  },
  {
   "cell_type": "code",
   "execution_count": null,
   "metadata": {},
   "outputs": [],
   "source": [
    "full_res = res.merge(emmeans, left_index=True, right_index=True)"
   ]
  },
  {
   "cell_type": "code",
   "execution_count": null,
   "metadata": {},
   "outputs": [],
   "source": [
    "# Get the vector of pvalues\n",
    "\n",
    "pval_col = [\n",
    "    column\n",
    "    for column in list(full_res.columns)\n",
    "    if (\n",
    "        \"pval\" in column and \"Model\" not in column and \"Intercept\" not in column\n",
    "    )  # Remove intercept from pvalue correction\n",
    "]\n",
    "pvalues_lists = [list(full_res[col]) for col in pval_col]\n",
    "pvalues = [item for sublist in pvalues_lists for item in sublist]\n",
    "from statsmodels.stats.multitest import fdrcorrection, multipletests\n",
    "\n",
    "pvalues_BH = multipletests(pvalues, 0.05, method=\"holm\")[1]\n",
    "\n",
    "plt.hist(np.log10(pvalues_BH))\n",
    "plt.title(\"Holm corrected log10 p-values for the emmeans estimates\")"
   ]
  },
  {
   "cell_type": "code",
   "execution_count": null,
   "metadata": {},
   "outputs": [],
   "source": [
    "[c for c in full_res.columns if \"pval\" in c]"
   ]
  },
  {
   "cell_type": "code",
   "execution_count": null,
   "metadata": {},
   "outputs": [],
   "source": [
    "# Re create the pvalues columns\n",
    "\n",
    "i = 0\n",
    "BH_col = []\n",
    "for col in full_res.columns:\n",
    "    if (\n",
    "        \"pval\" in col\n",
    "        and \"Model\" not in col\n",
    "        and \"Intercept\" not in col  # Remove intercept from pvalue correction\n",
    "    ):  # Keep only the emmeans, loose the Model estimates directly output by the MM\n",
    "        new_name = col + \" BH\"\n",
    "        beg = i * len(full_res)\n",
    "        end = (i + 1) * len(full_res)\n",
    "        l = pvalues_BH[beg:end]\n",
    "        full_res[new_name] = l\n",
    "        i += 1\n",
    "\n",
    "full_res"
   ]
  },
  {
   "cell_type": "code",
   "execution_count": null,
   "metadata": {},
   "outputs": [],
   "source": [
    "full_res.columns = [\n",
    "    \"Contrast \" + c.replace(\"vs\", \"-\") if \"vs\" in c else c for c in full_res.columns\n",
    "]"
   ]
  },
  {
   "attachments": {},
   "cell_type": "markdown",
   "metadata": {},
   "source": [
    "# Match to the reactions names and subsystems"
   ]
  },
  {
   "cell_type": "code",
   "execution_count": null,
   "metadata": {},
   "outputs": [],
   "source": [
    "subsystems = pd.read_csv(\n",
    "    \"../../data/processed_files/subsystem_duplicated.csv\",\n",
    "    index_col=0,\n",
    ")\n",
    "rxn = pd.read_csv(\"../../data/processed_files/rxn_names.csv\", index_col=0)\n",
    "rxn.columns = [\"name\"]"
   ]
  },
  {
   "cell_type": "code",
   "execution_count": null,
   "metadata": {},
   "outputs": [],
   "source": [
    "full_res[\"Reaction\"] = rxn[\"name\"]\n",
    "subsystem_col = []\n",
    "\n",
    "for r in full_res.index:\n",
    "    subsys = subsystems[subsystems[\"rxn\"] == r][\"level3\"]\n",
    "    subsys_list = list(subsys)\n",
    "    if len(subsys_list) == 0:\n",
    "        subsys_list = [\"Unknown\"]\n",
    "    subsystem_col.append(subsys_list)\n",
    "subsystem_col = pd.Series(subsystem_col, index=full_res.index)\n",
    "full_res[\"Subsystem\"] = subsystem_col"
   ]
  },
  {
   "attachments": {},
   "cell_type": "markdown",
   "metadata": {},
   "source": [
    "# Plot the results\n",
    "\n",
    "\n",
    "This is generates the data for Figure 3.d and Extended Figures 6f, 6g and 6h."
   ]
  },
  {
   "cell_type": "code",
   "execution_count": null,
   "metadata": {},
   "outputs": [],
   "source": [
    "full_res.columns"
   ]
  },
  {
   "cell_type": "code",
   "execution_count": null,
   "metadata": {},
   "outputs": [],
   "source": [
    "aplha = 0.05\n",
    "boxplot_matrix = []\n",
    "for reaction_name in full_res.index:\n",
    "    for contrast in [\n",
    "        \"Contrast Wild - SPF\",\n",
    "        \"Contrast Wild - Human\",\n",
    "        \"Contrast SPF - Human\",\n",
    "        \"MouseGenderMale\",\n",
    "        \"HumanGenderMale\",\n",
    "        \"MouseAdult_PupsPup\",\n",
    "    ]:\n",
    "        pval = full_res.loc[reaction_name, contrast + \" pval BH\"]\n",
    "        for subsys in full_res.loc[reaction_name, \"Subsystem\"]:\n",
    "            boxplot_matrix.append(\n",
    "                [\n",
    "                    subsys,\n",
    "                    contrast,\n",
    "                    pval,\n",
    "                    full_res.loc[reaction_name, contrast + \" est\"],\n",
    "                ]\n",
    "            )\n",
    "\n",
    "\n",
    "boxplot_df = pd.DataFrame(\n",
    "    boxplot_matrix, columns=[\"Subsystem\", \"Effect\", \"Corrected pvalue\", \"Estimate\"]\n",
    ")"
   ]
  },
  {
   "attachments": {},
   "cell_type": "markdown",
   "metadata": {},
   "source": [
    "TP: considered subsystem and significant\n",
    "FP: significant, other subsystem\n",
    "FN: not significant, considered subsystem\n",
    "TN: not significant, other subsystem"
   ]
  },
  {
   "cell_type": "code",
   "execution_count": null,
   "metadata": {},
   "outputs": [],
   "source": [
    "# Create one df per contrast\n",
    "correct = True\n",
    "\n",
    "contrast_df_dic = {}\n",
    "for contrast in [\n",
    "    \"Contrast Wild - SPF\",\n",
    "    \"Contrast Wild - Human\",\n",
    "    \"Contrast SPF - Human\",\n",
    "    \"MouseGenderMale\",\n",
    "    \"HumanGenderMale\",\n",
    "    \"MouseAdult_PupsPup\",\n",
    "]:\n",
    "    contrast_df = boxplot_df[boxplot_df[\"Effect\"] == contrast]\n",
    "    contrast_df[\"ones\"] = pd.Series([1] * len(contrast_df), index=contrast_df.index)\n",
    "    subsys_count = contrast_df.groupby(\"Subsystem\").count()[\"ones\"]\n",
    "    subsystems_all = np.unique(contrast_df[\"Subsystem\"])\n",
    "    subsystems_enriched = []\n",
    "    for (\n",
    "        s\n",
    "    ) in (\n",
    "        subsystems_all\n",
    "    ):  # We consider the reactions with unknown subsystem for the Fisher test but we remove them from the final df for plotting\n",
    "        df_sig = contrast_df[contrast_df[\"Corrected pvalue\"] <= 0.05]\n",
    "        df_nonsig = contrast_df[contrast_df[\"Corrected pvalue\"] > 0.05]\n",
    "        # for each subsystem, check if it is enriched\n",
    "        contingency_mat = np.zeros((2, 2))\n",
    "        contingency_mat[0, 0] = len(df_sig[df_sig[\"Subsystem\"] == s])\n",
    "        contingency_mat[0, 1] = len(df_sig) - contingency_mat[0, 0]\n",
    "        contingency_mat[1, 0] = len(df_nonsig[df_nonsig[\"Subsystem\"] == s])\n",
    "        contingency_mat[1, 1] = len(df_nonsig) - contingency_mat[1, 0]\n",
    "        res = fisher_exact(contingency_mat, alternative=\"greater\")\n",
    "        # No pvalue correction at this step\n",
    "        # Made explicit in the manuscript methods.\n",
    "        if res.pvalue <= 0.05:\n",
    "            subsystems_enriched.append(s)\n",
    "            print(res.pvalue)\n",
    "    contrast_df = boxplot_df[boxplot_df[\"Effect\"] == contrast]\n",
    "    contrast_df = contrast_df[\n",
    "        contrast_df[\"Subsystem\"] != \"Unknown\"\n",
    "    ]  # Remove the \"Unknown\" subsystem from plotting\n",
    "    contrast_df = contrast_df[contrast_df[\"Subsystem\"].isin(subsystems_enriched)]\n",
    "    # Plot only the significant effects\n",
    "    contrast_df = contrast_df[contrast_df[\"Corrected pvalue\"] <= 0.05]\n",
    "    contrast_df_dic[contrast] = contrast_df"
   ]
  },
  {
   "cell_type": "code",
   "execution_count": null,
   "metadata": {},
   "outputs": [],
   "source": [
    "# Plots\n",
    "\n",
    "\n",
    "def boxplot(\n",
    "    df, contrast, figsize, ymax, effect_thresh=0.01, ymin=-1, swarmplot=True, title=None\n",
    "):\n",
    "    plt.figure(figsize=figsize)\n",
    "    sns.boxplot(data=df, y=\"Subsystem\", x=\"Estimate\")\n",
    "    if swarmplot:\n",
    "        sns.swarmplot(data=df, y=\"Subsystem\", x=\"Estimate\", color=\"k\", s=5)\n",
    "    plt.vlines(\n",
    "        [0], ymin=ymin, ymax=ymax, colors=[\"g\"], linestyles=[\"dashed\"], label=\"0\"\n",
    "    )\n",
    "    plt.vlines(\n",
    "        [-effect_thresh, effect_thresh],\n",
    "        ymin=ymin,\n",
    "        ymax=ymax,\n",
    "        colors=[\"orange\"],\n",
    "        linestyles=[\"dashed\"],\n",
    "        label=f\"+/- {effect_thresh}\",\n",
    "    )\n",
    "\n",
    "    if title is not None:\n",
    "        plt.title(title)\n",
    "    else:\n",
    "        plt.title(contrast)\n",
    "    plt.xticks(rotation=45)\n",
    "    plt.legend()\n",
    "    plt.show()"
   ]
  },
  {
   "cell_type": "code",
   "execution_count": null,
   "metadata": {},
   "outputs": [],
   "source": [
    "contrasts = [\n",
    "    \"Contrast Wild - SPF\",\n",
    "    \"Contrast Wild - Human\",\n",
    "    \"Contrast SPF - Human\",\n",
    "    \"MouseGenderMale\",\n",
    "    \"HumanGenderMale\",\n",
    "    \"MouseAdult_PupsPup\",\n",
    "]"
   ]
  },
  {
   "cell_type": "code",
   "execution_count": null,
   "metadata": {},
   "outputs": [],
   "source": [
    "contrast_df_dic[contrasts[-1]]"
   ]
  },
  {
   "cell_type": "code",
   "execution_count": null,
   "metadata": {},
   "outputs": [],
   "source": [
    "contrast_df_dic[contrasts[5]][\"Subsystem\"].unique()"
   ]
  },
  {
   "cell_type": "code",
   "execution_count": null,
   "metadata": {},
   "outputs": [],
   "source": [
    "boxplot(\n",
    "    contrast_df_dic[contrasts[0]],\n",
    "    contrast=contrasts[0],\n",
    "    figsize=(5, 3),\n",
    "    ymax=2,\n",
    "    swarmplot=True,\n",
    ")"
   ]
  },
  {
   "cell_type": "code",
   "execution_count": null,
   "metadata": {},
   "outputs": [],
   "source": [
    "boxplot(contrast_df_dic[contrasts[1]], contrast=contrasts[1], figsize=(5, 3), ymax=3)"
   ]
  },
  {
   "cell_type": "code",
   "execution_count": null,
   "metadata": {},
   "outputs": [],
   "source": [
    "boxplot(contrast_df_dic[contrasts[2]], contrast=contrasts[2], figsize=(5, 5), ymax=6)"
   ]
  },
  {
   "cell_type": "code",
   "execution_count": null,
   "metadata": {},
   "outputs": [],
   "source": [
    "boxplot(\n",
    "    contrast_df_dic[contrasts[3]],\n",
    "    contrast=contrasts[3],\n",
    "    figsize=(5, 8),\n",
    "    ymax=17,\n",
    "    title=\"Contrast Male - Female (for mice)\",\n",
    ")"
   ]
  },
  {
   "cell_type": "code",
   "execution_count": null,
   "metadata": {},
   "outputs": [],
   "source": [
    "boxplot(\n",
    "    contrast_df_dic[contrasts[4]],\n",
    "    contrast=contrasts[4],\n",
    "    figsize=(5, 2),\n",
    "    ymax=1,\n",
    "    title=\"Contrast Male - Female (for humans)\",\n",
    ")"
   ]
  },
  {
   "cell_type": "code",
   "execution_count": null,
   "metadata": {},
   "outputs": [],
   "source": [
    "boxplot(\n",
    "    contrast_df_dic[contrasts[5]],\n",
    "    contrast=contrasts[5],\n",
    "    figsize=(5, 8),\n",
    "    ymax=14,\n",
    "    title=\"Contrast Pup - Adults (for mice)\",\n",
    ")"
   ]
  },
  {
   "attachments": {},
   "cell_type": "markdown",
   "metadata": {},
   "source": [
    "# Additional test\n",
    "\n",
    "Is the glyoxylate subsystem more enriched in significant reactions than the other subsystems?"
   ]
  },
  {
   "cell_type": "code",
   "execution_count": null,
   "metadata": {},
   "outputs": [],
   "source": [
    "for contrast in [\n",
    "    \"Contrast Wild - SPF\",\n",
    "    \"Contrast Wild - Human\",\n",
    "    \"Contrast SPF - Human\",\n",
    "    \"MouseGenderMale\",\n",
    "    \"HumanGenderMale\",\n",
    "    \"MouseAdult_PupsPup\",\n",
    "]:\n",
    "    contrast_df = boxplot_df[boxplot_df[\"Effect\"] == contrast]\n",
    "\n",
    "    glyoxy = contrast_df[\n",
    "        contrast_df[\"Subsystem\"] == \"Glyoxylate and dicarboxylate metabolism\"\n",
    "    ]\n",
    "    other = contrast_df[\n",
    "        contrast_df[\"Subsystem\"] != \"Glyoxylate and dicarboxylate metabolism\"\n",
    "    ]\n",
    "    glyoxy_sig = glyoxy[glyoxy[\"Corrected pvalue\"] <= 0.05]\n",
    "    glyoxy_nonsig = glyoxy[glyoxy[\"Corrected pvalue\"] > 0.05]\n",
    "    other_sig = other[other[\"Corrected pvalue\"] <= 0.05]\n",
    "    other_nonsig = other[other[\"Corrected pvalue\"] > 0.05]\n",
    "\n",
    "    contingency_mat = np.zeros((2, 2))\n",
    "    contingency_mat[0, 0] = len(glyoxy_sig)\n",
    "    contingency_mat[0, 1] = len(other_sig)\n",
    "    contingency_mat[1, 0] = len(glyoxy_nonsig)\n",
    "    contingency_mat[1, 1] = len(other_nonsig)\n",
    "    res = fisher_exact(contingency_mat, alternative=\"greater\")\n",
    "    print(contrast, res)"
   ]
  },
  {
   "cell_type": "markdown",
   "metadata": {},
   "source": [
    "# Save the contrasts dataframes: This is the data for Figure 3d and Supplementary Figures 6f, 6g and 6h"
   ]
  },
  {
   "cell_type": "code",
   "execution_count": null,
   "metadata": {},
   "outputs": [],
   "source": [
    "if save_files == True:\n",
    "    for contrast in contrasts:\n",
    "        df = contrast_df_dic[contrast]\n",
    "        df.to_csv(f\"../../data/manuscript/Main_figure_results_{contrast}.csv\")"
   ]
  }
 ],
 "metadata": {
  "kernelspec": {
   "display_name": "MacPherson",
   "language": "python",
   "name": "python3"
  },
  "language_info": {
   "codemirror_mode": {
    "name": "ipython",
    "version": 3
   },
   "file_extension": ".py",
   "mimetype": "text/x-python",
   "name": "python",
   "nbconvert_exporter": "python",
   "pygments_lexer": "ipython3",
   "version": "3.10.9"
  },
  "orig_nbformat": 4
 },
 "nbformat": 4,
 "nbformat_minor": 2
}
