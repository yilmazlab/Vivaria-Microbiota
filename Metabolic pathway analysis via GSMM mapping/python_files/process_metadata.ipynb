{
 "cells": [
  {
   "cell_type": "code",
   "execution_count": null,
   "metadata": {},
   "outputs": [],
   "source": [
    "import pandas as pd\n",
    "import pyreadr"
   ]
  },
  {
   "cell_type": "code",
   "execution_count": null,
   "metadata": {},
   "outputs": [],
   "source": [
    "save_files = True"
   ]
  },
  {
   "attachments": {},
   "cell_type": "markdown",
   "metadata": {},
   "source": [
    "# Process the metadata\n",
    "\n",
    "1. Match the metadata to the samples in the OTU matrix. For this, some of the sample IDs need to be corrected.\n",
    "2. Curate the chip annotation and the gender\n",
    "3. Join the metadata with the reaction abundance to prepare the dataset for model fitting\n",
    "\n",
    "To overwrite the saved files, set the boolean ```save_files``` in the above cell to ```True```\n",
    "\n",
    "## 1. Filter the metadata file to only keep samples that are present in the data matrix\n",
    "\n",
    "This step is necessary as the metadata was obtained at a later date than the samples and contains irrelevant rows"
   ]
  },
  {
   "cell_type": "code",
   "execution_count": null,
   "metadata": {},
   "outputs": [],
   "source": [
    "meta_original = pd.read_csv(\"../data/processed_files/temp_metadata.csv\", index_col=0)\n",
    "meta_updated = pd.read_csv(\n",
    "    \"../data/original_files/After_Chip126_2022_december.tsv\", sep=\"\\t\"\n",
    ")\n",
    "ID_curation = pd.read_csv(\"../data/original_files/unmatch_ID_BY.csv\", index_col=0)\n",
    "ID_curation.index = ID_curation[\"metadata\"]\n",
    "\n",
    "data = pyreadr.read_r(\"../data/processed_files/otumat.rds\")\n",
    "otu_table = data[None]  # extract the pandas data frame for the only object available"
   ]
  },
  {
   "cell_type": "code",
   "execution_count": null,
   "metadata": {},
   "outputs": [],
   "source": [
    "# Remove the first row of the metadata which is the data type\n",
    "meta_updated = meta_updated.drop(0, axis=0)\n",
    "\n",
    "# Curate the IDs of the misannotated samples\n",
    "curated_IDs_updated = meta_updated[\"#SampleID\"].apply(\n",
    "    lambda i: i if i not in ID_curation[\"metadata\"] else ID_curation.loc[i, \"otu table\"]\n",
    ")\n",
    "meta_updated[\"#SampleID\"] = curated_IDs_updated\n",
    "meta_updated.index = meta_updated[\"#SampleID\"]\n",
    "meta_updated"
   ]
  },
  {
   "attachments": {},
   "cell_type": "markdown",
   "metadata": {},
   "source": [
    "There is not the same amount of samples in both dataframes. There are 4248 samples in the original metadata, and 4286 is the new metadata. Those 38 extra samples need to be removed. To do so we match the updated metadata to the OTU matrix.\n"
   ]
  },
  {
   "cell_type": "code",
   "execution_count": null,
   "metadata": {},
   "outputs": [],
   "source": [
    "# Filter for the samples that are present in the OTU matrix\n",
    "meta = meta_updated.loc[otu_table.columns, :]\n",
    "meta"
   ]
  },
  {
   "attachments": {},
   "cell_type": "markdown",
   "metadata": {},
   "source": [
    "## Curate the chip annotation "
   ]
  },
  {
   "cell_type": "code",
   "execution_count": null,
   "metadata": {},
   "outputs": [],
   "source": [
    "# Curate the chip annotation\n",
    "def correct_chip(s):\n",
    "    if \"Chip157\" in s:\n",
    "        return \"Chip157\"\n",
    "    else:\n",
    "        return s\n",
    "\n",
    "\n",
    "meta[\"IontorrentChip\"] = meta[\"IontorrentChip\"].apply(correct_chip)\n",
    "meta[\"IontorrentChip\"].unique()"
   ]
  },
  {
   "cell_type": "code",
   "execution_count": null,
   "metadata": {},
   "outputs": [],
   "source": [
    "if save_files:\n",
    "    meta.to_csv(\"../data/processed_files/metadata.csv\")"
   ]
  }
 ],
 "metadata": {
  "kernelspec": {
   "display_name": "MacPherson",
   "language": "python",
   "name": "python3"
  },
  "language_info": {
   "codemirror_mode": {
    "name": "ipython",
    "version": 3
   },
   "file_extension": ".py",
   "mimetype": "text/x-python",
   "name": "python",
   "nbconvert_exporter": "python",
   "pygments_lexer": "ipython3",
   "version": "3.10.9"
  },
  "orig_nbformat": 4
 },
 "nbformat": 4,
 "nbformat_minor": 2
}
