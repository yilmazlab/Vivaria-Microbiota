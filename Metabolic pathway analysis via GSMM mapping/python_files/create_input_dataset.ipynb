{
 "cells": [
  {
   "attachments": {},
   "cell_type": "markdown",
   "metadata": {},
   "source": [
    "Once the normalized reaction abundances are computed, combine them with the processed metadata to obtain the input dataset which will be used to fit the models.\n",
    "\n",
    "Set the boolean ```save_files``` to ```True``` to overwrite the files."
   ]
  },
  {
   "cell_type": "code",
   "execution_count": null,
   "metadata": {},
   "outputs": [],
   "source": [
    "save_files = False"
   ]
  },
  {
   "cell_type": "code",
   "execution_count": null,
   "metadata": {},
   "outputs": [],
   "source": [
    "import pandas as pd"
   ]
  },
  {
   "cell_type": "code",
   "execution_count": null,
   "metadata": {},
   "outputs": [],
   "source": [
    "original_abund = \"../data/processed_files/normalized_reaction_abundance.csv\"\n",
    "original_metadata = \"../data/processed_files/metadata.csv\""
   ]
  },
  {
   "cell_type": "code",
   "execution_count": null,
   "metadata": {},
   "outputs": [],
   "source": [
    "orig_reac = pd.read_csv(original_abund)\n",
    "orig_reac = orig_reac[[c for c in orig_reac.columns if \"abund_rxns\" in c]]\n",
    "\n",
    "orig_rxn = pd.read_csv(original_abund)\n",
    "orig_rxn = orig_rxn[[c for c in orig_rxn.columns if \"abund_rxns\" not in c]]\n",
    "\n",
    "orig_meta = pd.read_csv(original_metadata)"
   ]
  },
  {
   "cell_type": "code",
   "execution_count": null,
   "metadata": {},
   "outputs": [],
   "source": [
    "# Label the reactions by their name\n",
    "\n",
    "orig_reac.index = orig_rxn[\"name\"]\n",
    "orig_reac.columns = orig_meta[\"#SampleID\"]\n",
    "orig_full = pd.merge(\n",
    "    orig_reac.transpose(), orig_meta, left_index=True, right_on=\"#SampleID\"\n",
    ")\n",
    "orig_full.index = orig_full[\"#SampleID\"]"
   ]
  },
  {
   "cell_type": "code",
   "execution_count": null,
   "metadata": {},
   "outputs": [],
   "source": [
    "orig_full"
   ]
  },
  {
   "cell_type": "code",
   "execution_count": null,
   "metadata": {},
   "outputs": [],
   "source": [
    "# Save the data\n",
    "rxns = [c for c in orig_full.columns if c not in orig_meta.columns]\n",
    "if save_files:\n",
    "    orig_full.to_csv(\"../data/processed_files/abund_and_metadata.csv\")\n",
    "    pd.DataFrame(rxns).to_csv(\"../data/processed_files/rxn_names.csv\")"
   ]
  },
  {
   "attachments": {},
   "cell_type": "markdown",
   "metadata": {},
   "source": [
    "# A small sanity check\n",
    "\n",
    "We will only process the samples from Wild, SPF, and human samples with known gender. It is possible, that some reactions would have 0 abundance for all samples due to the removal of certain models. This is very unlikely as we only removed defined microbiomes from the analysis, but we will run a sanity check to be sure. "
   ]
  },
  {
   "cell_type": "code",
   "execution_count": null,
   "metadata": {},
   "outputs": [],
   "source": [
    "W_SPF_H = orig_full[orig_full[\"Model\"].isin([\"Wild\", \"SPF\", \"Human\"])]\n",
    "W_SPF_H = W_SPF_H[W_SPF_H[\"Gender\"] != \"Unknown\"]\n",
    "W_SPF_H_reac = W_SPF_H[rxns]\n",
    "\n",
    "abundances_per_reac = W_SPF_H_reac.sum(axis=1)\n",
    "assert len(abundances_per_reac[abundances_per_reac == 0]) == 0"
   ]
  }
 ],
 "metadata": {
  "kernelspec": {
   "display_name": "MacPherson",
   "language": "python",
   "name": "python3"
  },
  "language_info": {
   "codemirror_mode": {
    "name": "ipython",
    "version": 3
   },
   "file_extension": ".py",
   "mimetype": "text/x-python",
   "name": "python",
   "nbconvert_exporter": "python",
   "pygments_lexer": "ipython3",
   "version": "3.10.9"
  },
  "orig_nbformat": 4
 },
 "nbformat": 4,
 "nbformat_minor": 2
}
