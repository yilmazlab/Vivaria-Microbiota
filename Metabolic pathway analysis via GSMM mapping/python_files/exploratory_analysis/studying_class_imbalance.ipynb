{
 "cells": [
  {
   "attachments": {},
   "cell_type": "markdown",
   "id": "0200fa0a",
   "metadata": {},
   "source": [
    "# Explore the repartition of the samples between the different groups\n",
    "\n",
    "Of note: for the analysis, the 113 wild mice with unknown gender were ignored and the two mice of gender \"Female Preg\" were considered to have gender female. Those changes are implemented in the R file running the script.\n",
    "\n",
    "Also note that the chip annotation was curated in the notebook ```process_metadata.ipynb```."
   ]
  },
  {
   "cell_type": "code",
   "execution_count": null,
   "id": "a0a07446",
   "metadata": {},
   "outputs": [],
   "source": [
    "import pandas as pd\n",
    "import numpy as np\n",
    "import seaborn as sns\n",
    "import matplotlib.pyplot as plt"
   ]
  },
  {
   "cell_type": "code",
   "execution_count": null,
   "id": "c5c36d31",
   "metadata": {},
   "outputs": [],
   "source": [
    "pd.set_option(\"display.max_rows\", 200)"
   ]
  },
  {
   "cell_type": "code",
   "execution_count": null,
   "id": "a8a52318",
   "metadata": {},
   "outputs": [],
   "source": [
    "metadata = pd.read_csv(\"../../data/processed_files/metadata.csv\", index_col=0)\n",
    "# Add a column for summing\n",
    "metadata[\"ones\"] = [1] * 4248\n",
    "metadata"
   ]
  },
  {
   "attachments": {},
   "cell_type": "markdown",
   "id": "81899644",
   "metadata": {},
   "source": [
    "# Analyse the metadata that we have\n",
    "\n",
    "We initially wanted to build the model with gender, age, but I have the feeling it's going to be trickier than this"
   ]
  },
  {
   "cell_type": "code",
   "execution_count": null,
   "id": "040f56c0",
   "metadata": {},
   "outputs": [],
   "source": [
    "# Number of samples per model\n",
    "\n",
    "pd.DataFrame(metadata.groupby(\"Model\")[\"ones\"].count())"
   ]
  },
  {
   "attachments": {},
   "cell_type": "markdown",
   "id": "97a2ff77",
   "metadata": {},
   "source": [
    "There's a majority of SPF mice."
   ]
  },
  {
   "cell_type": "code",
   "execution_count": null,
   "id": "74a7288e",
   "metadata": {},
   "outputs": [],
   "source": [
    "# Origins per model\n",
    "\n",
    "pd.DataFrame(metadata.groupby([\"Model\", \"Origin\"])[\"ones\"].count())"
   ]
  },
  {
   "cell_type": "code",
   "execution_count": null,
   "id": "4d9aa819",
   "metadata": {},
   "outputs": [],
   "source": [
    "# Gender per model\n",
    "pd.DataFrame(metadata.groupby([\"Model\", \"Gender\"])[\"ones\"].count())"
   ]
  },
  {
   "cell_type": "code",
   "execution_count": null,
   "id": "582ef166",
   "metadata": {},
   "outputs": [],
   "source": [
    "# Gender per origin\n",
    "pd.DataFrame(metadata.groupby([\"Gender\", \"Origin\"])[\"ones\"].count())"
   ]
  },
  {
   "cell_type": "code",
   "execution_count": null,
   "id": "3f74428d",
   "metadata": {},
   "outputs": [],
   "source": [
    "# Age per model\n",
    "pd.DataFrame(metadata.groupby([\"Model\", \"Adult_Pups\"])[\"ones\"].count())"
   ]
  },
  {
   "cell_type": "code",
   "execution_count": null,
   "id": "b3240dc1",
   "metadata": {},
   "outputs": [],
   "source": [
    "# Age per model\n",
    "pd.DataFrame(metadata.groupby([\"Model\", \"Age\"])[\"ones\"].count())"
   ]
  },
  {
   "cell_type": "code",
   "execution_count": null,
   "id": "550a4b64",
   "metadata": {},
   "outputs": [],
   "source": [
    "# Are chips nested into Origin?\n",
    "pd.DataFrame(metadata.groupby([\"IontorrentChip\", \"Origin\"])[\"ones\"].count())"
   ]
  }
 ],
 "metadata": {
  "kernelspec": {
   "display_name": "Python 3.10.6 ('basic_env_3.10')",
   "language": "python",
   "name": "python3"
  },
  "language_info": {
   "codemirror_mode": {
    "name": "ipython",
    "version": 3
   },
   "file_extension": ".py",
   "mimetype": "text/x-python",
   "name": "python",
   "nbconvert_exporter": "python",
   "pygments_lexer": "ipython3",
   "version": "3.10.9"
  },
  "vscode": {
   "interpreter": {
    "hash": "a59aee97fb8a8856a446eb2a9f662ba2d04bd75a695ddf502b3dd0f2b9bb9a52"
   }
  }
 },
 "nbformat": 4,
 "nbformat_minor": 5
}
