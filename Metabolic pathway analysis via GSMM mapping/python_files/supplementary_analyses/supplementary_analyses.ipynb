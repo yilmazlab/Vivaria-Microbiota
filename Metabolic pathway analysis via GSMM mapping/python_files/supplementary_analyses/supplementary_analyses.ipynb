{
 "cells": [
  {
   "cell_type": "markdown",
   "metadata": {},
   "source": [
    "# Percentage of total reaction abundance mapped to a subsystem"
   ]
  },
  {
   "cell_type": "code",
   "execution_count": null,
   "metadata": {},
   "outputs": [],
   "source": [
    "import pandas as pd\n",
    "import matplotlib.pyplot as plt\n",
    "import seaborn as sns\n",
    "import numpy as np"
   ]
  },
  {
   "cell_type": "code",
   "execution_count": null,
   "metadata": {},
   "outputs": [],
   "source": [
    "save_files = False"
   ]
  },
  {
   "cell_type": "code",
   "execution_count": null,
   "metadata": {},
   "outputs": [],
   "source": [
    "subsys_mapping = pd.read_csv(\n",
    "    \"../data/processed_files/subsystem_duplicated.csv\", index_col=0\n",
    ")\n",
    "reaction_abundance = pd.read_csv(\"../data/processed_files/abund_and_metadata.csv\")"
   ]
  },
  {
   "cell_type": "code",
   "execution_count": null,
   "metadata": {},
   "outputs": [],
   "source": [
    "subsys_mapping"
   ]
  },
  {
   "cell_type": "code",
   "execution_count": null,
   "metadata": {},
   "outputs": [],
   "source": [
    "reaction_abundance"
   ]
  },
  {
   "cell_type": "code",
   "execution_count": null,
   "metadata": {},
   "outputs": [],
   "source": [
    "reaction_abundance.columns[-50:]"
   ]
  },
  {
   "cell_type": "code",
   "execution_count": null,
   "metadata": {},
   "outputs": [],
   "source": [
    "reaction_abundance.index = reaction_abundance[\"#SampleID\"]\n",
    "model = reaction_abundance[\"Model\"]\n",
    "reaction_abundance = reaction_abundance[[c for c in reaction_abundance.columns[0:-49]]]\n",
    "reaction_abundance.drop(\"#SampleID\", axis=1, inplace=True)\n",
    "reaction_abundance"
   ]
  },
  {
   "cell_type": "code",
   "execution_count": null,
   "metadata": {},
   "outputs": [],
   "source": [
    "# Normalize the reaction abundance per sample\n",
    "reaction_abundance_norm = reaction_abundance.div(reaction_abundance.sum(axis=1), axis=0)\n",
    "reaction_abundance_norm"
   ]
  },
  {
   "cell_type": "code",
   "execution_count": null,
   "metadata": {},
   "outputs": [],
   "source": [
    "# Check that we normalized on the correct axis\n",
    "reaction_abundance_norm.sum(axis=1)"
   ]
  },
  {
   "cell_type": "code",
   "execution_count": null,
   "metadata": {},
   "outputs": [],
   "source": [
    "# Filter by subsystems\n",
    "reaction_abundance_subsys = reaction_abundance_norm[\n",
    "    [\n",
    "        c\n",
    "        for c in np.unique(subsys_mapping[\"rxn\"])\n",
    "        if c in reaction_abundance_norm.columns\n",
    "    ]\n",
    "]\n",
    "reaction_mapped = pd.DataFrame(\n",
    "    reaction_abundance_subsys.sum(axis=1), columns=[\"Mapped reaction abundance\"]\n",
    ")\n",
    "reaction_mapped[\"Model\"] = model\n",
    "reaction_mapped"
   ]
  },
  {
   "cell_type": "code",
   "execution_count": null,
   "metadata": {},
   "outputs": [],
   "source": [
    "sns.boxplot(data=reaction_mapped, y=\"Model\", x=\"Mapped reaction abundance\")\n",
    "plt.title(\n",
    "    \"Fraction of the reaction abundance corresponding to \\n reactions mapped to a subsystem\"\n",
    ")"
   ]
  },
  {
   "cell_type": "code",
   "execution_count": null,
   "metadata": {},
   "outputs": [],
   "source": [
    "save_files = False"
   ]
  },
  {
   "cell_type": "markdown",
   "metadata": {},
   "source": [
    "#### Generate data for Extended Figure 6d"
   ]
  },
  {
   "cell_type": "code",
   "execution_count": null,
   "metadata": {},
   "outputs": [],
   "source": [
    "if save_files:\n",
    "    # Data for Extended Figure 6e\n",
    "\n",
    "    reaction_mapped.to_csv(\"../data/tables/Supp_figure_mapped_reaction_to_subsys.csv\")"
   ]
  },
  {
   "cell_type": "code",
   "execution_count": null,
   "metadata": {},
   "outputs": [],
   "source": [
    "# How many different reactions have we mapped?\n",
    "len(\n",
    "    [\n",
    "        c\n",
    "        for c in np.unique(subsys_mapping[\"rxn\"])\n",
    "        if c in reaction_abundance_norm.columns\n",
    "    ]\n",
    ")"
   ]
  },
  {
   "cell_type": "code",
   "execution_count": null,
   "metadata": {},
   "outputs": [],
   "source": [
    "# Subsys mapping table for the 7604 metabolic reactions we have identified\n",
    "subsys_copy = subsys_mapping.copy()\n",
    "subsys_copy.index = subsys_copy[\"rxn\"]\n",
    "subsys_copy"
   ]
  },
  {
   "cell_type": "code",
   "execution_count": null,
   "metadata": {},
   "outputs": [],
   "source": [
    "len([c for c in subsys_copy.index if c in reaction_abundance_norm.columns])"
   ]
  },
  {
   "cell_type": "markdown",
   "metadata": {},
   "source": [
    "#### Generate Supplementary Table 8"
   ]
  },
  {
   "cell_type": "code",
   "execution_count": null,
   "metadata": {},
   "outputs": [],
   "source": [
    "subsystems_table = subsys_copy.loc[\n",
    "    [c for c in np.unique(subsys_copy.index) if c in reaction_abundance_norm.columns], :\n",
    "]\n",
    "subsystems_table.sort_index(inplace=True)\n",
    "subsystems_table.drop([\"rxn\", \"num_diff_subsys\"], inplace=True, axis=1)\n",
    "subsystems_table"
   ]
  },
  {
   "cell_type": "code",
   "execution_count": null,
   "metadata": {},
   "outputs": [],
   "source": [
    "# Supplementary Table 8\n",
    "subsystems_table.to_csv(\"../data/tables/Supp_table_reaction_to_subsystem_mapping.csv\")"
   ]
  },
  {
   "cell_type": "markdown",
   "metadata": {},
   "source": [
    "# List of all reactions"
   ]
  },
  {
   "cell_type": "code",
   "execution_count": null,
   "metadata": {},
   "outputs": [],
   "source": [
    "all_reac = pd.Series(reaction_abundance_norm.columns)\n",
    "all_reac"
   ]
  },
  {
   "cell_type": "code",
   "execution_count": null,
   "metadata": {},
   "outputs": [],
   "source": [
    "all_reac.to_csv(\"../data/manuscript/Supp_table_7604_identified_reactions.csv\")"
   ]
  },
  {
   "cell_type": "markdown",
   "metadata": {},
   "source": [
    "# Mean and median of the reaction abundances"
   ]
  },
  {
   "cell_type": "code",
   "execution_count": null,
   "metadata": {},
   "outputs": [],
   "source": [
    "import pandas as pd\n",
    "import seaborn as sns\n",
    "import matplotlib.pyplot as plt\n",
    "import numpy as np"
   ]
  },
  {
   "cell_type": "code",
   "execution_count": null,
   "metadata": {},
   "outputs": [],
   "source": [
    "reaction_abundance = pd.read_csv(\n",
    "    \"../data/processed_files/abund_and_metadata.csv\", index_col=0\n",
    ")\n",
    "reaction_abundance"
   ]
  },
  {
   "cell_type": "code",
   "execution_count": null,
   "metadata": {},
   "outputs": [],
   "source": [
    "abund_only = reaction_abundance[reaction_abundance.columns[:-49]]\n",
    "abund_only"
   ]
  },
  {
   "cell_type": "code",
   "execution_count": null,
   "metadata": {},
   "outputs": [],
   "source": [
    "# Mean and median of all reaction abundances\n",
    "print(\"Mean\", np.mean(abund_only.to_numpy().flatten()))\n",
    "print(\"Median\", np.median(abund_only.to_numpy().flatten()))"
   ]
  }
 ],
 "metadata": {
  "kernelspec": {
   "display_name": "MacPherson",
   "language": "python",
   "name": "python3"
  },
  "language_info": {
   "codemirror_mode": {
    "name": "ipython",
    "version": 3
   },
   "file_extension": ".py",
   "mimetype": "text/x-python",
   "name": "python",
   "nbconvert_exporter": "python",
   "pygments_lexer": "ipython3",
   "version": "3.10.9"
  },
  "orig_nbformat": 4
 },
 "nbformat": 4,
 "nbformat_minor": 2
}
